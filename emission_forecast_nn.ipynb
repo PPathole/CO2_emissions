{
  "nbformat": 4,
  "nbformat_minor": 0,
  "metadata": {
    "colab": {
      "provenance": [],
      "gpuType": "T4"
    },
    "kernelspec": {
      "name": "python3",
      "display_name": "Python 3"
    },
    "language_info": {
      "name": "python"
    },
    "accelerator": "GPU"
  },
  "cells": [
    {
      "cell_type": "code",
      "execution_count": 2,
      "metadata": {
        "id": "zrFLwajTKF3V"
      },
      "outputs": [],
      "source": [
        "import pandas as pd\n",
        "import numpy as np\n",
        "import matplotlib.pyplot as plt\n",
        "import seaborn as sns\n",
        "import scipy.stats as stats\n",
        "from scipy.stats import shapiro, normaltest, anderson\n",
        "from sklearn.preprocessing import MinMaxScaler, StandardScaler, OneHotEncoder\n",
        "from sklearn.compose import ColumnTransformer\n",
        "from sklearn.pipeline import Pipeline\n",
        "from sklearn.model_selection import train_test_split\n",
        "import torch\n",
        "import torch.nn as nn\n",
        "import torch.optim as optim\n",
        "from torch.utils.data import Dataset, DataLoader"
      ]
    },
    {
      "cell_type": "code",
      "source": [
        "data = pd.read_csv('emission_data_preprocessed.csv')"
      ],
      "metadata": {
        "id": "jc3q5CfVKaE3"
      },
      "execution_count": 5,
      "outputs": []
    },
    {
      "cell_type": "code",
      "source": [
        "data"
      ],
      "metadata": {
        "colab": {
          "base_uri": "https://localhost:8080/",
          "height": 721
        },
        "id": "XdRkJSQZKizH",
        "outputId": "656f89d4-0de4-4703-8546-66b4140553da"
      },
      "execution_count": 6,
      "outputs": [
        {
          "output_type": "execute_result",
          "data": {
            "text/plain": [
              "       Unnamed: 0  year                   parent_entity         parent_type  \\\n",
              "0               0  1962  Abu Dhabi National Oil Company  State-owned Entity   \n",
              "1               1  1962  Abu Dhabi National Oil Company  State-owned Entity   \n",
              "2               2  1963  Abu Dhabi National Oil Company  State-owned Entity   \n",
              "3               3  1963  Abu Dhabi National Oil Company  State-owned Entity   \n",
              "4               4  1964  Abu Dhabi National Oil Company  State-owned Entity   \n",
              "...           ...   ...                             ...                 ...   \n",
              "12546       12546  2020                             YPF  State-owned Entity   \n",
              "12547       12547  2021                             YPF  State-owned Entity   \n",
              "12548       12548  2021                             YPF  State-owned Entity   \n",
              "12549       12549  2022                             YPF  State-owned Entity   \n",
              "12550       12550  2022                             YPF  State-owned Entity   \n",
              "\n",
              "         commodity  production_value production_unit  total_emissions_MtCO2e  \\\n",
              "0        Oil & NGL           0.91250  Million bbl/yr                0.363885   \n",
              "1      Natural Gas           1.84325          Bcf/yr                0.134355   \n",
              "2        Oil & NGL           1.82500  Million bbl/yr                0.727770   \n",
              "3      Natural Gas           4.42380          Bcf/yr                0.322453   \n",
              "4        Oil & NGL           7.30000  Million bbl/yr                2.911079   \n",
              "...            ...               ...             ...                     ...   \n",
              "12546  Natural Gas         394.00000          Bcf/yr               28.718814   \n",
              "12547    Oil & NGL          90.00000  Million bbl/yr               35.890011   \n",
              "12548  Natural Gas         403.00000          Bcf/yr               29.374827   \n",
              "12549    Oil & NGL          98.00000  Million bbl/yr               39.080234   \n",
              "12550  Natural Gas         423.00000          Bcf/yr               30.832635   \n",
              "\n",
              "       emission_intensity  \n",
              "0                0.398778  \n",
              "1                0.072890  \n",
              "2                0.398778  \n",
              "3                0.072890  \n",
              "4                0.398778  \n",
              "...                   ...  \n",
              "12546            0.072890  \n",
              "12547            0.398778  \n",
              "12548            0.072890  \n",
              "12549            0.398778  \n",
              "12550            0.072890  \n",
              "\n",
              "[12551 rows x 9 columns]"
            ],
            "text/html": [
              "\n",
              "  <div id=\"df-28c167c9-735b-4e74-81ba-be158f32e9f5\" class=\"colab-df-container\">\n",
              "    <div>\n",
              "<style scoped>\n",
              "    .dataframe tbody tr th:only-of-type {\n",
              "        vertical-align: middle;\n",
              "    }\n",
              "\n",
              "    .dataframe tbody tr th {\n",
              "        vertical-align: top;\n",
              "    }\n",
              "\n",
              "    .dataframe thead th {\n",
              "        text-align: right;\n",
              "    }\n",
              "</style>\n",
              "<table border=\"1\" class=\"dataframe\">\n",
              "  <thead>\n",
              "    <tr style=\"text-align: right;\">\n",
              "      <th></th>\n",
              "      <th>Unnamed: 0</th>\n",
              "      <th>year</th>\n",
              "      <th>parent_entity</th>\n",
              "      <th>parent_type</th>\n",
              "      <th>commodity</th>\n",
              "      <th>production_value</th>\n",
              "      <th>production_unit</th>\n",
              "      <th>total_emissions_MtCO2e</th>\n",
              "      <th>emission_intensity</th>\n",
              "    </tr>\n",
              "  </thead>\n",
              "  <tbody>\n",
              "    <tr>\n",
              "      <th>0</th>\n",
              "      <td>0</td>\n",
              "      <td>1962</td>\n",
              "      <td>Abu Dhabi National Oil Company</td>\n",
              "      <td>State-owned Entity</td>\n",
              "      <td>Oil &amp; NGL</td>\n",
              "      <td>0.91250</td>\n",
              "      <td>Million bbl/yr</td>\n",
              "      <td>0.363885</td>\n",
              "      <td>0.398778</td>\n",
              "    </tr>\n",
              "    <tr>\n",
              "      <th>1</th>\n",
              "      <td>1</td>\n",
              "      <td>1962</td>\n",
              "      <td>Abu Dhabi National Oil Company</td>\n",
              "      <td>State-owned Entity</td>\n",
              "      <td>Natural Gas</td>\n",
              "      <td>1.84325</td>\n",
              "      <td>Bcf/yr</td>\n",
              "      <td>0.134355</td>\n",
              "      <td>0.072890</td>\n",
              "    </tr>\n",
              "    <tr>\n",
              "      <th>2</th>\n",
              "      <td>2</td>\n",
              "      <td>1963</td>\n",
              "      <td>Abu Dhabi National Oil Company</td>\n",
              "      <td>State-owned Entity</td>\n",
              "      <td>Oil &amp; NGL</td>\n",
              "      <td>1.82500</td>\n",
              "      <td>Million bbl/yr</td>\n",
              "      <td>0.727770</td>\n",
              "      <td>0.398778</td>\n",
              "    </tr>\n",
              "    <tr>\n",
              "      <th>3</th>\n",
              "      <td>3</td>\n",
              "      <td>1963</td>\n",
              "      <td>Abu Dhabi National Oil Company</td>\n",
              "      <td>State-owned Entity</td>\n",
              "      <td>Natural Gas</td>\n",
              "      <td>4.42380</td>\n",
              "      <td>Bcf/yr</td>\n",
              "      <td>0.322453</td>\n",
              "      <td>0.072890</td>\n",
              "    </tr>\n",
              "    <tr>\n",
              "      <th>4</th>\n",
              "      <td>4</td>\n",
              "      <td>1964</td>\n",
              "      <td>Abu Dhabi National Oil Company</td>\n",
              "      <td>State-owned Entity</td>\n",
              "      <td>Oil &amp; NGL</td>\n",
              "      <td>7.30000</td>\n",
              "      <td>Million bbl/yr</td>\n",
              "      <td>2.911079</td>\n",
              "      <td>0.398778</td>\n",
              "    </tr>\n",
              "    <tr>\n",
              "      <th>...</th>\n",
              "      <td>...</td>\n",
              "      <td>...</td>\n",
              "      <td>...</td>\n",
              "      <td>...</td>\n",
              "      <td>...</td>\n",
              "      <td>...</td>\n",
              "      <td>...</td>\n",
              "      <td>...</td>\n",
              "      <td>...</td>\n",
              "    </tr>\n",
              "    <tr>\n",
              "      <th>12546</th>\n",
              "      <td>12546</td>\n",
              "      <td>2020</td>\n",
              "      <td>YPF</td>\n",
              "      <td>State-owned Entity</td>\n",
              "      <td>Natural Gas</td>\n",
              "      <td>394.00000</td>\n",
              "      <td>Bcf/yr</td>\n",
              "      <td>28.718814</td>\n",
              "      <td>0.072890</td>\n",
              "    </tr>\n",
              "    <tr>\n",
              "      <th>12547</th>\n",
              "      <td>12547</td>\n",
              "      <td>2021</td>\n",
              "      <td>YPF</td>\n",
              "      <td>State-owned Entity</td>\n",
              "      <td>Oil &amp; NGL</td>\n",
              "      <td>90.00000</td>\n",
              "      <td>Million bbl/yr</td>\n",
              "      <td>35.890011</td>\n",
              "      <td>0.398778</td>\n",
              "    </tr>\n",
              "    <tr>\n",
              "      <th>12548</th>\n",
              "      <td>12548</td>\n",
              "      <td>2021</td>\n",
              "      <td>YPF</td>\n",
              "      <td>State-owned Entity</td>\n",
              "      <td>Natural Gas</td>\n",
              "      <td>403.00000</td>\n",
              "      <td>Bcf/yr</td>\n",
              "      <td>29.374827</td>\n",
              "      <td>0.072890</td>\n",
              "    </tr>\n",
              "    <tr>\n",
              "      <th>12549</th>\n",
              "      <td>12549</td>\n",
              "      <td>2022</td>\n",
              "      <td>YPF</td>\n",
              "      <td>State-owned Entity</td>\n",
              "      <td>Oil &amp; NGL</td>\n",
              "      <td>98.00000</td>\n",
              "      <td>Million bbl/yr</td>\n",
              "      <td>39.080234</td>\n",
              "      <td>0.398778</td>\n",
              "    </tr>\n",
              "    <tr>\n",
              "      <th>12550</th>\n",
              "      <td>12550</td>\n",
              "      <td>2022</td>\n",
              "      <td>YPF</td>\n",
              "      <td>State-owned Entity</td>\n",
              "      <td>Natural Gas</td>\n",
              "      <td>423.00000</td>\n",
              "      <td>Bcf/yr</td>\n",
              "      <td>30.832635</td>\n",
              "      <td>0.072890</td>\n",
              "    </tr>\n",
              "  </tbody>\n",
              "</table>\n",
              "<p>12551 rows × 9 columns</p>\n",
              "</div>\n",
              "    <div class=\"colab-df-buttons\">\n",
              "\n",
              "  <div class=\"colab-df-container\">\n",
              "    <button class=\"colab-df-convert\" onclick=\"convertToInteractive('df-28c167c9-735b-4e74-81ba-be158f32e9f5')\"\n",
              "            title=\"Convert this dataframe to an interactive table.\"\n",
              "            style=\"display:none;\">\n",
              "\n",
              "  <svg xmlns=\"http://www.w3.org/2000/svg\" height=\"24px\" viewBox=\"0 -960 960 960\">\n",
              "    <path d=\"M120-120v-720h720v720H120Zm60-500h600v-160H180v160Zm220 220h160v-160H400v160Zm0 220h160v-160H400v160ZM180-400h160v-160H180v160Zm440 0h160v-160H620v160ZM180-180h160v-160H180v160Zm440 0h160v-160H620v160Z\"/>\n",
              "  </svg>\n",
              "    </button>\n",
              "\n",
              "  <style>\n",
              "    .colab-df-container {\n",
              "      display:flex;\n",
              "      gap: 12px;\n",
              "    }\n",
              "\n",
              "    .colab-df-convert {\n",
              "      background-color: #E8F0FE;\n",
              "      border: none;\n",
              "      border-radius: 50%;\n",
              "      cursor: pointer;\n",
              "      display: none;\n",
              "      fill: #1967D2;\n",
              "      height: 32px;\n",
              "      padding: 0 0 0 0;\n",
              "      width: 32px;\n",
              "    }\n",
              "\n",
              "    .colab-df-convert:hover {\n",
              "      background-color: #E2EBFA;\n",
              "      box-shadow: 0px 1px 2px rgba(60, 64, 67, 0.3), 0px 1px 3px 1px rgba(60, 64, 67, 0.15);\n",
              "      fill: #174EA6;\n",
              "    }\n",
              "\n",
              "    .colab-df-buttons div {\n",
              "      margin-bottom: 4px;\n",
              "    }\n",
              "\n",
              "    [theme=dark] .colab-df-convert {\n",
              "      background-color: #3B4455;\n",
              "      fill: #D2E3FC;\n",
              "    }\n",
              "\n",
              "    [theme=dark] .colab-df-convert:hover {\n",
              "      background-color: #434B5C;\n",
              "      box-shadow: 0px 1px 3px 1px rgba(0, 0, 0, 0.15);\n",
              "      filter: drop-shadow(0px 1px 2px rgba(0, 0, 0, 0.3));\n",
              "      fill: #FFFFFF;\n",
              "    }\n",
              "  </style>\n",
              "\n",
              "    <script>\n",
              "      const buttonEl =\n",
              "        document.querySelector('#df-28c167c9-735b-4e74-81ba-be158f32e9f5 button.colab-df-convert');\n",
              "      buttonEl.style.display =\n",
              "        google.colab.kernel.accessAllowed ? 'block' : 'none';\n",
              "\n",
              "      async function convertToInteractive(key) {\n",
              "        const element = document.querySelector('#df-28c167c9-735b-4e74-81ba-be158f32e9f5');\n",
              "        const dataTable =\n",
              "          await google.colab.kernel.invokeFunction('convertToInteractive',\n",
              "                                                    [key], {});\n",
              "        if (!dataTable) return;\n",
              "\n",
              "        const docLinkHtml = 'Like what you see? Visit the ' +\n",
              "          '<a target=\"_blank\" href=https://colab.research.google.com/notebooks/data_table.ipynb>data table notebook</a>'\n",
              "          + ' to learn more about interactive tables.';\n",
              "        element.innerHTML = '';\n",
              "        dataTable['output_type'] = 'display_data';\n",
              "        await google.colab.output.renderOutput(dataTable, element);\n",
              "        const docLink = document.createElement('div');\n",
              "        docLink.innerHTML = docLinkHtml;\n",
              "        element.appendChild(docLink);\n",
              "      }\n",
              "    </script>\n",
              "  </div>\n",
              "\n",
              "\n",
              "<div id=\"df-2b453ffa-ed13-43bb-ae5a-0b98744e1f12\">\n",
              "  <button class=\"colab-df-quickchart\" onclick=\"quickchart('df-2b453ffa-ed13-43bb-ae5a-0b98744e1f12')\"\n",
              "            title=\"Suggest charts\"\n",
              "            style=\"display:none;\">\n",
              "\n",
              "<svg xmlns=\"http://www.w3.org/2000/svg\" height=\"24px\"viewBox=\"0 0 24 24\"\n",
              "     width=\"24px\">\n",
              "    <g>\n",
              "        <path d=\"M19 3H5c-1.1 0-2 .9-2 2v14c0 1.1.9 2 2 2h14c1.1 0 2-.9 2-2V5c0-1.1-.9-2-2-2zM9 17H7v-7h2v7zm4 0h-2V7h2v10zm4 0h-2v-4h2v4z\"/>\n",
              "    </g>\n",
              "</svg>\n",
              "  </button>\n",
              "\n",
              "<style>\n",
              "  .colab-df-quickchart {\n",
              "      --bg-color: #E8F0FE;\n",
              "      --fill-color: #1967D2;\n",
              "      --hover-bg-color: #E2EBFA;\n",
              "      --hover-fill-color: #174EA6;\n",
              "      --disabled-fill-color: #AAA;\n",
              "      --disabled-bg-color: #DDD;\n",
              "  }\n",
              "\n",
              "  [theme=dark] .colab-df-quickchart {\n",
              "      --bg-color: #3B4455;\n",
              "      --fill-color: #D2E3FC;\n",
              "      --hover-bg-color: #434B5C;\n",
              "      --hover-fill-color: #FFFFFF;\n",
              "      --disabled-bg-color: #3B4455;\n",
              "      --disabled-fill-color: #666;\n",
              "  }\n",
              "\n",
              "  .colab-df-quickchart {\n",
              "    background-color: var(--bg-color);\n",
              "    border: none;\n",
              "    border-radius: 50%;\n",
              "    cursor: pointer;\n",
              "    display: none;\n",
              "    fill: var(--fill-color);\n",
              "    height: 32px;\n",
              "    padding: 0;\n",
              "    width: 32px;\n",
              "  }\n",
              "\n",
              "  .colab-df-quickchart:hover {\n",
              "    background-color: var(--hover-bg-color);\n",
              "    box-shadow: 0 1px 2px rgba(60, 64, 67, 0.3), 0 1px 3px 1px rgba(60, 64, 67, 0.15);\n",
              "    fill: var(--button-hover-fill-color);\n",
              "  }\n",
              "\n",
              "  .colab-df-quickchart-complete:disabled,\n",
              "  .colab-df-quickchart-complete:disabled:hover {\n",
              "    background-color: var(--disabled-bg-color);\n",
              "    fill: var(--disabled-fill-color);\n",
              "    box-shadow: none;\n",
              "  }\n",
              "\n",
              "  .colab-df-spinner {\n",
              "    border: 2px solid var(--fill-color);\n",
              "    border-color: transparent;\n",
              "    border-bottom-color: var(--fill-color);\n",
              "    animation:\n",
              "      spin 1s steps(1) infinite;\n",
              "  }\n",
              "\n",
              "  @keyframes spin {\n",
              "    0% {\n",
              "      border-color: transparent;\n",
              "      border-bottom-color: var(--fill-color);\n",
              "      border-left-color: var(--fill-color);\n",
              "    }\n",
              "    20% {\n",
              "      border-color: transparent;\n",
              "      border-left-color: var(--fill-color);\n",
              "      border-top-color: var(--fill-color);\n",
              "    }\n",
              "    30% {\n",
              "      border-color: transparent;\n",
              "      border-left-color: var(--fill-color);\n",
              "      border-top-color: var(--fill-color);\n",
              "      border-right-color: var(--fill-color);\n",
              "    }\n",
              "    40% {\n",
              "      border-color: transparent;\n",
              "      border-right-color: var(--fill-color);\n",
              "      border-top-color: var(--fill-color);\n",
              "    }\n",
              "    60% {\n",
              "      border-color: transparent;\n",
              "      border-right-color: var(--fill-color);\n",
              "    }\n",
              "    80% {\n",
              "      border-color: transparent;\n",
              "      border-right-color: var(--fill-color);\n",
              "      border-bottom-color: var(--fill-color);\n",
              "    }\n",
              "    90% {\n",
              "      border-color: transparent;\n",
              "      border-bottom-color: var(--fill-color);\n",
              "    }\n",
              "  }\n",
              "</style>\n",
              "\n",
              "  <script>\n",
              "    async function quickchart(key) {\n",
              "      const quickchartButtonEl =\n",
              "        document.querySelector('#' + key + ' button');\n",
              "      quickchartButtonEl.disabled = true;  // To prevent multiple clicks.\n",
              "      quickchartButtonEl.classList.add('colab-df-spinner');\n",
              "      try {\n",
              "        const charts = await google.colab.kernel.invokeFunction(\n",
              "            'suggestCharts', [key], {});\n",
              "      } catch (error) {\n",
              "        console.error('Error during call to suggestCharts:', error);\n",
              "      }\n",
              "      quickchartButtonEl.classList.remove('colab-df-spinner');\n",
              "      quickchartButtonEl.classList.add('colab-df-quickchart-complete');\n",
              "    }\n",
              "    (() => {\n",
              "      let quickchartButtonEl =\n",
              "        document.querySelector('#df-2b453ffa-ed13-43bb-ae5a-0b98744e1f12 button');\n",
              "      quickchartButtonEl.style.display =\n",
              "        google.colab.kernel.accessAllowed ? 'block' : 'none';\n",
              "    })();\n",
              "  </script>\n",
              "</div>\n",
              "\n",
              "  <div id=\"id_86c25751-26e6-4ed8-bdfb-c480e5886017\">\n",
              "    <style>\n",
              "      .colab-df-generate {\n",
              "        background-color: #E8F0FE;\n",
              "        border: none;\n",
              "        border-radius: 50%;\n",
              "        cursor: pointer;\n",
              "        display: none;\n",
              "        fill: #1967D2;\n",
              "        height: 32px;\n",
              "        padding: 0 0 0 0;\n",
              "        width: 32px;\n",
              "      }\n",
              "\n",
              "      .colab-df-generate:hover {\n",
              "        background-color: #E2EBFA;\n",
              "        box-shadow: 0px 1px 2px rgba(60, 64, 67, 0.3), 0px 1px 3px 1px rgba(60, 64, 67, 0.15);\n",
              "        fill: #174EA6;\n",
              "      }\n",
              "\n",
              "      [theme=dark] .colab-df-generate {\n",
              "        background-color: #3B4455;\n",
              "        fill: #D2E3FC;\n",
              "      }\n",
              "\n",
              "      [theme=dark] .colab-df-generate:hover {\n",
              "        background-color: #434B5C;\n",
              "        box-shadow: 0px 1px 3px 1px rgba(0, 0, 0, 0.15);\n",
              "        filter: drop-shadow(0px 1px 2px rgba(0, 0, 0, 0.3));\n",
              "        fill: #FFFFFF;\n",
              "      }\n",
              "    </style>\n",
              "    <button class=\"colab-df-generate\" onclick=\"generateWithVariable('data')\"\n",
              "            title=\"Generate code using this dataframe.\"\n",
              "            style=\"display:none;\">\n",
              "\n",
              "  <svg xmlns=\"http://www.w3.org/2000/svg\" height=\"24px\"viewBox=\"0 0 24 24\"\n",
              "       width=\"24px\">\n",
              "    <path d=\"M7,19H8.4L18.45,9,17,7.55,7,17.6ZM5,21V16.75L18.45,3.32a2,2,0,0,1,2.83,0l1.4,1.43a1.91,1.91,0,0,1,.58,1.4,1.91,1.91,0,0,1-.58,1.4L9.25,21ZM18.45,9,17,7.55Zm-12,3A5.31,5.31,0,0,0,4.9,8.1,5.31,5.31,0,0,0,1,6.5,5.31,5.31,0,0,0,4.9,4.9,5.31,5.31,0,0,0,6.5,1,5.31,5.31,0,0,0,8.1,4.9,5.31,5.31,0,0,0,12,6.5,5.46,5.46,0,0,0,6.5,12Z\"/>\n",
              "  </svg>\n",
              "    </button>\n",
              "    <script>\n",
              "      (() => {\n",
              "      const buttonEl =\n",
              "        document.querySelector('#id_86c25751-26e6-4ed8-bdfb-c480e5886017 button.colab-df-generate');\n",
              "      buttonEl.style.display =\n",
              "        google.colab.kernel.accessAllowed ? 'block' : 'none';\n",
              "\n",
              "      buttonEl.onclick = () => {\n",
              "        google.colab.notebook.generateWithVariable('data');\n",
              "      }\n",
              "      })();\n",
              "    </script>\n",
              "  </div>\n",
              "\n",
              "    </div>\n",
              "  </div>\n"
            ],
            "application/vnd.google.colaboratory.intrinsic+json": {
              "type": "dataframe",
              "variable_name": "data",
              "summary": "{\n  \"name\": \"data\",\n  \"rows\": 12551,\n  \"fields\": [\n    {\n      \"column\": \"Unnamed: 0\",\n      \"properties\": {\n        \"dtype\": \"number\",\n        \"std\": 3623,\n        \"min\": 0,\n        \"max\": 12550,\n        \"num_unique_values\": 12551,\n        \"samples\": [\n          7632,\n          1732,\n          7367\n        ],\n        \"semantic_type\": \"\",\n        \"description\": \"\"\n      }\n    },\n    {\n      \"column\": \"year\",\n      \"properties\": {\n        \"dtype\": \"number\",\n        \"std\": 29,\n        \"min\": 1854,\n        \"max\": 2022,\n        \"num_unique_values\": 169,\n        \"samples\": [\n          1888,\n          1992,\n          1869\n        ],\n        \"semantic_type\": \"\",\n        \"description\": \"\"\n      }\n    },\n    {\n      \"column\": \"parent_entity\",\n      \"properties\": {\n        \"dtype\": \"category\",\n        \"num_unique_values\": 122,\n        \"samples\": [\n          \"Cemex\",\n          \"ExxonMobil\",\n          \"Gazprom\"\n        ],\n        \"semantic_type\": \"\",\n        \"description\": \"\"\n      }\n    },\n    {\n      \"column\": \"parent_type\",\n      \"properties\": {\n        \"dtype\": \"category\",\n        \"num_unique_values\": 3,\n        \"samples\": [\n          \"State-owned Entity\",\n          \"Investor-owned Company\",\n          \"Nation State\"\n        ],\n        \"semantic_type\": \"\",\n        \"description\": \"\"\n      }\n    },\n    {\n      \"column\": \"commodity\",\n      \"properties\": {\n        \"dtype\": \"category\",\n        \"num_unique_values\": 9,\n        \"samples\": [\n          \"Cement\",\n          \"Natural Gas\",\n          \"Thermal Coal\"\n        ],\n        \"semantic_type\": \"\",\n        \"description\": \"\"\n      }\n    },\n    {\n      \"column\": \"production_value\",\n      \"properties\": {\n        \"dtype\": \"number\",\n        \"std\": 1357.5381279892554,\n        \"min\": 0.004398386,\n        \"max\": 27192.0,\n        \"num_unique_values\": 11750,\n        \"samples\": [\n          2397.8545500000005,\n          91.25,\n          183.11554821\n        ],\n        \"semantic_type\": \"\",\n        \"description\": \"\"\n      }\n    },\n    {\n      \"column\": \"production_unit\",\n      \"properties\": {\n        \"dtype\": \"category\",\n        \"num_unique_values\": 3,\n        \"samples\": [\n          \"Million bbl/yr\",\n          \"Bcf/yr\",\n          \"Million tonnes/yr\"\n        ],\n        \"semantic_type\": \"\",\n        \"description\": \"\"\n      }\n    },\n    {\n      \"column\": \"total_emissions_MtCO2e\",\n      \"properties\": {\n        \"dtype\": \"number\",\n        \"std\": 329.78984807072254,\n        \"min\": 0.000320600072502,\n        \"max\": 8646.905949479984,\n        \"num_unique_values\": 12108,\n        \"samples\": [\n          1.8742561153127475,\n          2.515809995805332,\n          9.457126883129016\n        ],\n        \"semantic_type\": \"\",\n        \"description\": \"\"\n      }\n    },\n    {\n      \"column\": \"emission_intensity\",\n      \"properties\": {\n        \"dtype\": \"number\",\n        \"std\": 1.1177547974947393,\n        \"min\": 0.0728903903618281,\n        \"max\": 2.966617075847106,\n        \"num_unique_values\": 173,\n        \"samples\": [\n          2.7141390262468392,\n          0.5971,\n          0.645161\n        ],\n        \"semantic_type\": \"\",\n        \"description\": \"\"\n      }\n    }\n  ]\n}"
            }
          },
          "metadata": {},
          "execution_count": 6
        }
      ]
    },
    {
      "cell_type": "code",
      "source": [
        "categorical_features = ['parent_entity', 'parent_type', 'commodity']\n",
        "numerical_features = ['year', 'production_value', 'emission_intensity']"
      ],
      "metadata": {
        "id": "v3bz1x96KjTC"
      },
      "execution_count": 7,
      "outputs": []
    },
    {
      "cell_type": "code",
      "source": [
        "preprocessor = ColumnTransformer(\n",
        "    transformers=[\n",
        "        ('num', StandardScaler(), numerical_features),\n",
        "        ('cat', OneHotEncoder(sparse_output=False), categorical_features)\n",
        "    ])"
      ],
      "metadata": {
        "id": "xd2-CFQOKobh"
      },
      "execution_count": 8,
      "outputs": []
    },
    {
      "cell_type": "code",
      "source": [
        "drop_cols = ['total_emissions_MtCO2e', 'Unnamed: 0']"
      ],
      "metadata": {
        "id": "ntfXi6-OK2NB"
      },
      "execution_count": 9,
      "outputs": []
    },
    {
      "cell_type": "code",
      "source": [
        "X = data.drop(drop_cols, axis=1)\n",
        "y = data['total_emissions_MtCO2e']"
      ],
      "metadata": {
        "id": "tGpnYASJKqzE"
      },
      "execution_count": 10,
      "outputs": []
    },
    {
      "cell_type": "code",
      "source": [
        "data.columns"
      ],
      "metadata": {
        "colab": {
          "base_uri": "https://localhost:8080/"
        },
        "id": "03HT06ZKKtjZ",
        "outputId": "5305e4e9-0f4a-4588-fe29-4b359feb23f2"
      },
      "execution_count": 11,
      "outputs": [
        {
          "output_type": "execute_result",
          "data": {
            "text/plain": [
              "Index(['Unnamed: 0', 'year', 'parent_entity', 'parent_type', 'commodity',\n",
              "       'production_value', 'production_unit', 'total_emissions_MtCO2e',\n",
              "       'emission_intensity'],\n",
              "      dtype='object')"
            ]
          },
          "metadata": {},
          "execution_count": 11
        }
      ]
    },
    {
      "cell_type": "code",
      "source": [
        "X"
      ],
      "metadata": {
        "colab": {
          "base_uri": "https://localhost:8080/",
          "height": 597
        },
        "id": "EGCgYsSsKuL3",
        "outputId": "ccaeae74-3047-4e57-9b56-8ddd0a254fa0"
      },
      "execution_count": 12,
      "outputs": [
        {
          "output_type": "execute_result",
          "data": {
            "text/plain": [
              "       year                   parent_entity         parent_type    commodity  \\\n",
              "0      1962  Abu Dhabi National Oil Company  State-owned Entity    Oil & NGL   \n",
              "1      1962  Abu Dhabi National Oil Company  State-owned Entity  Natural Gas   \n",
              "2      1963  Abu Dhabi National Oil Company  State-owned Entity    Oil & NGL   \n",
              "3      1963  Abu Dhabi National Oil Company  State-owned Entity  Natural Gas   \n",
              "4      1964  Abu Dhabi National Oil Company  State-owned Entity    Oil & NGL   \n",
              "...     ...                             ...                 ...          ...   \n",
              "12546  2020                             YPF  State-owned Entity  Natural Gas   \n",
              "12547  2021                             YPF  State-owned Entity    Oil & NGL   \n",
              "12548  2021                             YPF  State-owned Entity  Natural Gas   \n",
              "12549  2022                             YPF  State-owned Entity    Oil & NGL   \n",
              "12550  2022                             YPF  State-owned Entity  Natural Gas   \n",
              "\n",
              "       production_value production_unit  emission_intensity  \n",
              "0               0.91250  Million bbl/yr            0.398778  \n",
              "1               1.84325          Bcf/yr            0.072890  \n",
              "2               1.82500  Million bbl/yr            0.398778  \n",
              "3               4.42380          Bcf/yr            0.072890  \n",
              "4               7.30000  Million bbl/yr            0.398778  \n",
              "...                 ...             ...                 ...  \n",
              "12546         394.00000          Bcf/yr            0.072890  \n",
              "12547          90.00000  Million bbl/yr            0.398778  \n",
              "12548         403.00000          Bcf/yr            0.072890  \n",
              "12549          98.00000  Million bbl/yr            0.398778  \n",
              "12550         423.00000          Bcf/yr            0.072890  \n",
              "\n",
              "[12551 rows x 7 columns]"
            ],
            "text/html": [
              "\n",
              "  <div id=\"df-fefb9604-e517-492d-8b86-ca01c43e9bec\" class=\"colab-df-container\">\n",
              "    <div>\n",
              "<style scoped>\n",
              "    .dataframe tbody tr th:only-of-type {\n",
              "        vertical-align: middle;\n",
              "    }\n",
              "\n",
              "    .dataframe tbody tr th {\n",
              "        vertical-align: top;\n",
              "    }\n",
              "\n",
              "    .dataframe thead th {\n",
              "        text-align: right;\n",
              "    }\n",
              "</style>\n",
              "<table border=\"1\" class=\"dataframe\">\n",
              "  <thead>\n",
              "    <tr style=\"text-align: right;\">\n",
              "      <th></th>\n",
              "      <th>year</th>\n",
              "      <th>parent_entity</th>\n",
              "      <th>parent_type</th>\n",
              "      <th>commodity</th>\n",
              "      <th>production_value</th>\n",
              "      <th>production_unit</th>\n",
              "      <th>emission_intensity</th>\n",
              "    </tr>\n",
              "  </thead>\n",
              "  <tbody>\n",
              "    <tr>\n",
              "      <th>0</th>\n",
              "      <td>1962</td>\n",
              "      <td>Abu Dhabi National Oil Company</td>\n",
              "      <td>State-owned Entity</td>\n",
              "      <td>Oil &amp; NGL</td>\n",
              "      <td>0.91250</td>\n",
              "      <td>Million bbl/yr</td>\n",
              "      <td>0.398778</td>\n",
              "    </tr>\n",
              "    <tr>\n",
              "      <th>1</th>\n",
              "      <td>1962</td>\n",
              "      <td>Abu Dhabi National Oil Company</td>\n",
              "      <td>State-owned Entity</td>\n",
              "      <td>Natural Gas</td>\n",
              "      <td>1.84325</td>\n",
              "      <td>Bcf/yr</td>\n",
              "      <td>0.072890</td>\n",
              "    </tr>\n",
              "    <tr>\n",
              "      <th>2</th>\n",
              "      <td>1963</td>\n",
              "      <td>Abu Dhabi National Oil Company</td>\n",
              "      <td>State-owned Entity</td>\n",
              "      <td>Oil &amp; NGL</td>\n",
              "      <td>1.82500</td>\n",
              "      <td>Million bbl/yr</td>\n",
              "      <td>0.398778</td>\n",
              "    </tr>\n",
              "    <tr>\n",
              "      <th>3</th>\n",
              "      <td>1963</td>\n",
              "      <td>Abu Dhabi National Oil Company</td>\n",
              "      <td>State-owned Entity</td>\n",
              "      <td>Natural Gas</td>\n",
              "      <td>4.42380</td>\n",
              "      <td>Bcf/yr</td>\n",
              "      <td>0.072890</td>\n",
              "    </tr>\n",
              "    <tr>\n",
              "      <th>4</th>\n",
              "      <td>1964</td>\n",
              "      <td>Abu Dhabi National Oil Company</td>\n",
              "      <td>State-owned Entity</td>\n",
              "      <td>Oil &amp; NGL</td>\n",
              "      <td>7.30000</td>\n",
              "      <td>Million bbl/yr</td>\n",
              "      <td>0.398778</td>\n",
              "    </tr>\n",
              "    <tr>\n",
              "      <th>...</th>\n",
              "      <td>...</td>\n",
              "      <td>...</td>\n",
              "      <td>...</td>\n",
              "      <td>...</td>\n",
              "      <td>...</td>\n",
              "      <td>...</td>\n",
              "      <td>...</td>\n",
              "    </tr>\n",
              "    <tr>\n",
              "      <th>12546</th>\n",
              "      <td>2020</td>\n",
              "      <td>YPF</td>\n",
              "      <td>State-owned Entity</td>\n",
              "      <td>Natural Gas</td>\n",
              "      <td>394.00000</td>\n",
              "      <td>Bcf/yr</td>\n",
              "      <td>0.072890</td>\n",
              "    </tr>\n",
              "    <tr>\n",
              "      <th>12547</th>\n",
              "      <td>2021</td>\n",
              "      <td>YPF</td>\n",
              "      <td>State-owned Entity</td>\n",
              "      <td>Oil &amp; NGL</td>\n",
              "      <td>90.00000</td>\n",
              "      <td>Million bbl/yr</td>\n",
              "      <td>0.398778</td>\n",
              "    </tr>\n",
              "    <tr>\n",
              "      <th>12548</th>\n",
              "      <td>2021</td>\n",
              "      <td>YPF</td>\n",
              "      <td>State-owned Entity</td>\n",
              "      <td>Natural Gas</td>\n",
              "      <td>403.00000</td>\n",
              "      <td>Bcf/yr</td>\n",
              "      <td>0.072890</td>\n",
              "    </tr>\n",
              "    <tr>\n",
              "      <th>12549</th>\n",
              "      <td>2022</td>\n",
              "      <td>YPF</td>\n",
              "      <td>State-owned Entity</td>\n",
              "      <td>Oil &amp; NGL</td>\n",
              "      <td>98.00000</td>\n",
              "      <td>Million bbl/yr</td>\n",
              "      <td>0.398778</td>\n",
              "    </tr>\n",
              "    <tr>\n",
              "      <th>12550</th>\n",
              "      <td>2022</td>\n",
              "      <td>YPF</td>\n",
              "      <td>State-owned Entity</td>\n",
              "      <td>Natural Gas</td>\n",
              "      <td>423.00000</td>\n",
              "      <td>Bcf/yr</td>\n",
              "      <td>0.072890</td>\n",
              "    </tr>\n",
              "  </tbody>\n",
              "</table>\n",
              "<p>12551 rows × 7 columns</p>\n",
              "</div>\n",
              "    <div class=\"colab-df-buttons\">\n",
              "\n",
              "  <div class=\"colab-df-container\">\n",
              "    <button class=\"colab-df-convert\" onclick=\"convertToInteractive('df-fefb9604-e517-492d-8b86-ca01c43e9bec')\"\n",
              "            title=\"Convert this dataframe to an interactive table.\"\n",
              "            style=\"display:none;\">\n",
              "\n",
              "  <svg xmlns=\"http://www.w3.org/2000/svg\" height=\"24px\" viewBox=\"0 -960 960 960\">\n",
              "    <path d=\"M120-120v-720h720v720H120Zm60-500h600v-160H180v160Zm220 220h160v-160H400v160Zm0 220h160v-160H400v160ZM180-400h160v-160H180v160Zm440 0h160v-160H620v160ZM180-180h160v-160H180v160Zm440 0h160v-160H620v160Z\"/>\n",
              "  </svg>\n",
              "    </button>\n",
              "\n",
              "  <style>\n",
              "    .colab-df-container {\n",
              "      display:flex;\n",
              "      gap: 12px;\n",
              "    }\n",
              "\n",
              "    .colab-df-convert {\n",
              "      background-color: #E8F0FE;\n",
              "      border: none;\n",
              "      border-radius: 50%;\n",
              "      cursor: pointer;\n",
              "      display: none;\n",
              "      fill: #1967D2;\n",
              "      height: 32px;\n",
              "      padding: 0 0 0 0;\n",
              "      width: 32px;\n",
              "    }\n",
              "\n",
              "    .colab-df-convert:hover {\n",
              "      background-color: #E2EBFA;\n",
              "      box-shadow: 0px 1px 2px rgba(60, 64, 67, 0.3), 0px 1px 3px 1px rgba(60, 64, 67, 0.15);\n",
              "      fill: #174EA6;\n",
              "    }\n",
              "\n",
              "    .colab-df-buttons div {\n",
              "      margin-bottom: 4px;\n",
              "    }\n",
              "\n",
              "    [theme=dark] .colab-df-convert {\n",
              "      background-color: #3B4455;\n",
              "      fill: #D2E3FC;\n",
              "    }\n",
              "\n",
              "    [theme=dark] .colab-df-convert:hover {\n",
              "      background-color: #434B5C;\n",
              "      box-shadow: 0px 1px 3px 1px rgba(0, 0, 0, 0.15);\n",
              "      filter: drop-shadow(0px 1px 2px rgba(0, 0, 0, 0.3));\n",
              "      fill: #FFFFFF;\n",
              "    }\n",
              "  </style>\n",
              "\n",
              "    <script>\n",
              "      const buttonEl =\n",
              "        document.querySelector('#df-fefb9604-e517-492d-8b86-ca01c43e9bec button.colab-df-convert');\n",
              "      buttonEl.style.display =\n",
              "        google.colab.kernel.accessAllowed ? 'block' : 'none';\n",
              "\n",
              "      async function convertToInteractive(key) {\n",
              "        const element = document.querySelector('#df-fefb9604-e517-492d-8b86-ca01c43e9bec');\n",
              "        const dataTable =\n",
              "          await google.colab.kernel.invokeFunction('convertToInteractive',\n",
              "                                                    [key], {});\n",
              "        if (!dataTable) return;\n",
              "\n",
              "        const docLinkHtml = 'Like what you see? Visit the ' +\n",
              "          '<a target=\"_blank\" href=https://colab.research.google.com/notebooks/data_table.ipynb>data table notebook</a>'\n",
              "          + ' to learn more about interactive tables.';\n",
              "        element.innerHTML = '';\n",
              "        dataTable['output_type'] = 'display_data';\n",
              "        await google.colab.output.renderOutput(dataTable, element);\n",
              "        const docLink = document.createElement('div');\n",
              "        docLink.innerHTML = docLinkHtml;\n",
              "        element.appendChild(docLink);\n",
              "      }\n",
              "    </script>\n",
              "  </div>\n",
              "\n",
              "\n",
              "<div id=\"df-47411f71-6712-4683-8bba-31abdf6e3114\">\n",
              "  <button class=\"colab-df-quickchart\" onclick=\"quickchart('df-47411f71-6712-4683-8bba-31abdf6e3114')\"\n",
              "            title=\"Suggest charts\"\n",
              "            style=\"display:none;\">\n",
              "\n",
              "<svg xmlns=\"http://www.w3.org/2000/svg\" height=\"24px\"viewBox=\"0 0 24 24\"\n",
              "     width=\"24px\">\n",
              "    <g>\n",
              "        <path d=\"M19 3H5c-1.1 0-2 .9-2 2v14c0 1.1.9 2 2 2h14c1.1 0 2-.9 2-2V5c0-1.1-.9-2-2-2zM9 17H7v-7h2v7zm4 0h-2V7h2v10zm4 0h-2v-4h2v4z\"/>\n",
              "    </g>\n",
              "</svg>\n",
              "  </button>\n",
              "\n",
              "<style>\n",
              "  .colab-df-quickchart {\n",
              "      --bg-color: #E8F0FE;\n",
              "      --fill-color: #1967D2;\n",
              "      --hover-bg-color: #E2EBFA;\n",
              "      --hover-fill-color: #174EA6;\n",
              "      --disabled-fill-color: #AAA;\n",
              "      --disabled-bg-color: #DDD;\n",
              "  }\n",
              "\n",
              "  [theme=dark] .colab-df-quickchart {\n",
              "      --bg-color: #3B4455;\n",
              "      --fill-color: #D2E3FC;\n",
              "      --hover-bg-color: #434B5C;\n",
              "      --hover-fill-color: #FFFFFF;\n",
              "      --disabled-bg-color: #3B4455;\n",
              "      --disabled-fill-color: #666;\n",
              "  }\n",
              "\n",
              "  .colab-df-quickchart {\n",
              "    background-color: var(--bg-color);\n",
              "    border: none;\n",
              "    border-radius: 50%;\n",
              "    cursor: pointer;\n",
              "    display: none;\n",
              "    fill: var(--fill-color);\n",
              "    height: 32px;\n",
              "    padding: 0;\n",
              "    width: 32px;\n",
              "  }\n",
              "\n",
              "  .colab-df-quickchart:hover {\n",
              "    background-color: var(--hover-bg-color);\n",
              "    box-shadow: 0 1px 2px rgba(60, 64, 67, 0.3), 0 1px 3px 1px rgba(60, 64, 67, 0.15);\n",
              "    fill: var(--button-hover-fill-color);\n",
              "  }\n",
              "\n",
              "  .colab-df-quickchart-complete:disabled,\n",
              "  .colab-df-quickchart-complete:disabled:hover {\n",
              "    background-color: var(--disabled-bg-color);\n",
              "    fill: var(--disabled-fill-color);\n",
              "    box-shadow: none;\n",
              "  }\n",
              "\n",
              "  .colab-df-spinner {\n",
              "    border: 2px solid var(--fill-color);\n",
              "    border-color: transparent;\n",
              "    border-bottom-color: var(--fill-color);\n",
              "    animation:\n",
              "      spin 1s steps(1) infinite;\n",
              "  }\n",
              "\n",
              "  @keyframes spin {\n",
              "    0% {\n",
              "      border-color: transparent;\n",
              "      border-bottom-color: var(--fill-color);\n",
              "      border-left-color: var(--fill-color);\n",
              "    }\n",
              "    20% {\n",
              "      border-color: transparent;\n",
              "      border-left-color: var(--fill-color);\n",
              "      border-top-color: var(--fill-color);\n",
              "    }\n",
              "    30% {\n",
              "      border-color: transparent;\n",
              "      border-left-color: var(--fill-color);\n",
              "      border-top-color: var(--fill-color);\n",
              "      border-right-color: var(--fill-color);\n",
              "    }\n",
              "    40% {\n",
              "      border-color: transparent;\n",
              "      border-right-color: var(--fill-color);\n",
              "      border-top-color: var(--fill-color);\n",
              "    }\n",
              "    60% {\n",
              "      border-color: transparent;\n",
              "      border-right-color: var(--fill-color);\n",
              "    }\n",
              "    80% {\n",
              "      border-color: transparent;\n",
              "      border-right-color: var(--fill-color);\n",
              "      border-bottom-color: var(--fill-color);\n",
              "    }\n",
              "    90% {\n",
              "      border-color: transparent;\n",
              "      border-bottom-color: var(--fill-color);\n",
              "    }\n",
              "  }\n",
              "</style>\n",
              "\n",
              "  <script>\n",
              "    async function quickchart(key) {\n",
              "      const quickchartButtonEl =\n",
              "        document.querySelector('#' + key + ' button');\n",
              "      quickchartButtonEl.disabled = true;  // To prevent multiple clicks.\n",
              "      quickchartButtonEl.classList.add('colab-df-spinner');\n",
              "      try {\n",
              "        const charts = await google.colab.kernel.invokeFunction(\n",
              "            'suggestCharts', [key], {});\n",
              "      } catch (error) {\n",
              "        console.error('Error during call to suggestCharts:', error);\n",
              "      }\n",
              "      quickchartButtonEl.classList.remove('colab-df-spinner');\n",
              "      quickchartButtonEl.classList.add('colab-df-quickchart-complete');\n",
              "    }\n",
              "    (() => {\n",
              "      let quickchartButtonEl =\n",
              "        document.querySelector('#df-47411f71-6712-4683-8bba-31abdf6e3114 button');\n",
              "      quickchartButtonEl.style.display =\n",
              "        google.colab.kernel.accessAllowed ? 'block' : 'none';\n",
              "    })();\n",
              "  </script>\n",
              "</div>\n",
              "\n",
              "  <div id=\"id_a2268641-cae0-4e73-a14e-0d0a7be91b2f\">\n",
              "    <style>\n",
              "      .colab-df-generate {\n",
              "        background-color: #E8F0FE;\n",
              "        border: none;\n",
              "        border-radius: 50%;\n",
              "        cursor: pointer;\n",
              "        display: none;\n",
              "        fill: #1967D2;\n",
              "        height: 32px;\n",
              "        padding: 0 0 0 0;\n",
              "        width: 32px;\n",
              "      }\n",
              "\n",
              "      .colab-df-generate:hover {\n",
              "        background-color: #E2EBFA;\n",
              "        box-shadow: 0px 1px 2px rgba(60, 64, 67, 0.3), 0px 1px 3px 1px rgba(60, 64, 67, 0.15);\n",
              "        fill: #174EA6;\n",
              "      }\n",
              "\n",
              "      [theme=dark] .colab-df-generate {\n",
              "        background-color: #3B4455;\n",
              "        fill: #D2E3FC;\n",
              "      }\n",
              "\n",
              "      [theme=dark] .colab-df-generate:hover {\n",
              "        background-color: #434B5C;\n",
              "        box-shadow: 0px 1px 3px 1px rgba(0, 0, 0, 0.15);\n",
              "        filter: drop-shadow(0px 1px 2px rgba(0, 0, 0, 0.3));\n",
              "        fill: #FFFFFF;\n",
              "      }\n",
              "    </style>\n",
              "    <button class=\"colab-df-generate\" onclick=\"generateWithVariable('X')\"\n",
              "            title=\"Generate code using this dataframe.\"\n",
              "            style=\"display:none;\">\n",
              "\n",
              "  <svg xmlns=\"http://www.w3.org/2000/svg\" height=\"24px\"viewBox=\"0 0 24 24\"\n",
              "       width=\"24px\">\n",
              "    <path d=\"M7,19H8.4L18.45,9,17,7.55,7,17.6ZM5,21V16.75L18.45,3.32a2,2,0,0,1,2.83,0l1.4,1.43a1.91,1.91,0,0,1,.58,1.4,1.91,1.91,0,0,1-.58,1.4L9.25,21ZM18.45,9,17,7.55Zm-12,3A5.31,5.31,0,0,0,4.9,8.1,5.31,5.31,0,0,0,1,6.5,5.31,5.31,0,0,0,4.9,4.9,5.31,5.31,0,0,0,6.5,1,5.31,5.31,0,0,0,8.1,4.9,5.31,5.31,0,0,0,12,6.5,5.46,5.46,0,0,0,6.5,12Z\"/>\n",
              "  </svg>\n",
              "    </button>\n",
              "    <script>\n",
              "      (() => {\n",
              "      const buttonEl =\n",
              "        document.querySelector('#id_a2268641-cae0-4e73-a14e-0d0a7be91b2f button.colab-df-generate');\n",
              "      buttonEl.style.display =\n",
              "        google.colab.kernel.accessAllowed ? 'block' : 'none';\n",
              "\n",
              "      buttonEl.onclick = () => {\n",
              "        google.colab.notebook.generateWithVariable('X');\n",
              "      }\n",
              "      })();\n",
              "    </script>\n",
              "  </div>\n",
              "\n",
              "    </div>\n",
              "  </div>\n"
            ],
            "application/vnd.google.colaboratory.intrinsic+json": {
              "type": "dataframe",
              "variable_name": "X",
              "summary": "{\n  \"name\": \"X\",\n  \"rows\": 12551,\n  \"fields\": [\n    {\n      \"column\": \"year\",\n      \"properties\": {\n        \"dtype\": \"number\",\n        \"std\": 29,\n        \"min\": 1854,\n        \"max\": 2022,\n        \"num_unique_values\": 169,\n        \"samples\": [\n          1888,\n          1992,\n          1869\n        ],\n        \"semantic_type\": \"\",\n        \"description\": \"\"\n      }\n    },\n    {\n      \"column\": \"parent_entity\",\n      \"properties\": {\n        \"dtype\": \"category\",\n        \"num_unique_values\": 122,\n        \"samples\": [\n          \"Cemex\",\n          \"ExxonMobil\",\n          \"Gazprom\"\n        ],\n        \"semantic_type\": \"\",\n        \"description\": \"\"\n      }\n    },\n    {\n      \"column\": \"parent_type\",\n      \"properties\": {\n        \"dtype\": \"category\",\n        \"num_unique_values\": 3,\n        \"samples\": [\n          \"State-owned Entity\",\n          \"Investor-owned Company\",\n          \"Nation State\"\n        ],\n        \"semantic_type\": \"\",\n        \"description\": \"\"\n      }\n    },\n    {\n      \"column\": \"commodity\",\n      \"properties\": {\n        \"dtype\": \"category\",\n        \"num_unique_values\": 9,\n        \"samples\": [\n          \"Cement\",\n          \"Natural Gas\",\n          \"Thermal Coal\"\n        ],\n        \"semantic_type\": \"\",\n        \"description\": \"\"\n      }\n    },\n    {\n      \"column\": \"production_value\",\n      \"properties\": {\n        \"dtype\": \"number\",\n        \"std\": 1357.5381279892554,\n        \"min\": 0.004398386,\n        \"max\": 27192.0,\n        \"num_unique_values\": 11750,\n        \"samples\": [\n          2397.8545500000005,\n          91.25,\n          183.11554821\n        ],\n        \"semantic_type\": \"\",\n        \"description\": \"\"\n      }\n    },\n    {\n      \"column\": \"production_unit\",\n      \"properties\": {\n        \"dtype\": \"category\",\n        \"num_unique_values\": 3,\n        \"samples\": [\n          \"Million bbl/yr\",\n          \"Bcf/yr\",\n          \"Million tonnes/yr\"\n        ],\n        \"semantic_type\": \"\",\n        \"description\": \"\"\n      }\n    },\n    {\n      \"column\": \"emission_intensity\",\n      \"properties\": {\n        \"dtype\": \"number\",\n        \"std\": 1.1177547974947393,\n        \"min\": 0.0728903903618281,\n        \"max\": 2.966617075847106,\n        \"num_unique_values\": 173,\n        \"samples\": [\n          2.7141390262468392,\n          0.5971,\n          0.645161\n        ],\n        \"semantic_type\": \"\",\n        \"description\": \"\"\n      }\n    }\n  ]\n}"
            }
          },
          "metadata": {},
          "execution_count": 12
        }
      ]
    },
    {
      "cell_type": "code",
      "source": [
        "y"
      ],
      "metadata": {
        "colab": {
          "base_uri": "https://localhost:8080/"
        },
        "id": "_PE2WSOWK8Sa",
        "outputId": "a2c7aa54-f22c-42a1-c4fd-a505f00f8ef8"
      },
      "execution_count": 13,
      "outputs": [
        {
          "output_type": "execute_result",
          "data": {
            "text/plain": [
              "0         0.363885\n",
              "1         0.134355\n",
              "2         0.727770\n",
              "3         0.322453\n",
              "4         2.911079\n",
              "           ...    \n",
              "12546    28.718814\n",
              "12547    35.890011\n",
              "12548    29.374827\n",
              "12549    39.080234\n",
              "12550    30.832635\n",
              "Name: total_emissions_MtCO2e, Length: 12551, dtype: float64"
            ]
          },
          "metadata": {},
          "execution_count": 13
        }
      ]
    },
    {
      "cell_type": "code",
      "source": [
        "X = preprocessor.fit_transform(X)"
      ],
      "metadata": {
        "id": "tXCRncszK9gT"
      },
      "execution_count": 14,
      "outputs": []
    },
    {
      "cell_type": "code",
      "source": [
        "X"
      ],
      "metadata": {
        "colab": {
          "base_uri": "https://localhost:8080/"
        },
        "id": "dFElUDtFLAQI",
        "outputId": "7d5c08f6-8f7a-418f-b787-87c67b87285c"
      },
      "execution_count": 15,
      "outputs": [
        {
          "output_type": "execute_result",
          "data": {
            "text/plain": [
              "array([[-0.86119873, -0.30332949, -0.6430239 , ...,  1.        ,\n",
              "         0.        ,  0.        ],\n",
              "       [-0.86119873, -0.30264385, -0.93459097, ...,  0.        ,\n",
              "         0.        ,  0.        ],\n",
              "       [-0.82695367, -0.30265729, -0.6430239 , ...,  1.        ,\n",
              "         0.        ,  0.        ],\n",
              "       ...,\n",
              "       [ 1.15925981, -0.00712896, -0.93459097, ...,  0.        ,\n",
              "         0.        ,  0.        ],\n",
              "       [ 1.19350487, -0.23180931, -0.6430239 , ...,  1.        ,\n",
              "         0.        ,  0.        ],\n",
              "       [ 1.19350487,  0.00760418, -0.93459097, ...,  0.        ,\n",
              "         0.        ,  0.        ]])"
            ]
          },
          "metadata": {},
          "execution_count": 15
        }
      ]
    },
    {
      "cell_type": "code",
      "source": [
        "X_train, X_test, y_train, y_test = train_test_split(X, y, test_size=0.2, random_state=42)"
      ],
      "metadata": {
        "id": "oBC-x0CiLByJ"
      },
      "execution_count": 16,
      "outputs": []
    },
    {
      "cell_type": "code",
      "source": [
        "# Convert to PyTorch tensors\n",
        "X_train = torch.tensor(X_train, dtype=torch.float32)\n",
        "X_test = torch.tensor(X_test, dtype=torch.float32)\n",
        "y_train = torch.tensor(y_train.values, dtype=torch.float32).view(-1, 1)\n",
        "y_test = torch.tensor(y_test.values, dtype=torch.float32).view(-1, 1)"
      ],
      "metadata": {
        "id": "WSG6sFUFLLnJ"
      },
      "execution_count": 17,
      "outputs": []
    },
    {
      "cell_type": "code",
      "source": [
        "X_train"
      ],
      "metadata": {
        "colab": {
          "base_uri": "https://localhost:8080/"
        },
        "id": "TRDkq8noLPW3",
        "outputId": "992b8351-8cdd-4a28-bf08-bc4e2691a653"
      },
      "execution_count": 18,
      "outputs": [
        {
          "output_type": "execute_result",
          "data": {
            "text/plain": [
              "tensor([[ 3.7162e-01,  1.3900e+01, -9.3459e-01,  ...,  0.0000e+00,\n",
              "          0.0000e+00,  0.0000e+00],\n",
              "        [-1.2379e+00, -2.7616e-01,  1.4285e+00,  ...,  0.0000e+00,\n",
              "          0.0000e+00,  0.0000e+00],\n",
              "        [-5.0722e-03, -2.8503e-01,  1.9837e-01,  ...,  0.0000e+00,\n",
              "          0.0000e+00,  0.0000e+00],\n",
              "        ...,\n",
              "        [-5.1875e-01, -2.8632e-01, -9.3459e-01,  ...,  0.0000e+00,\n",
              "          0.0000e+00,  0.0000e+00],\n",
              "        [-7.5846e-01, -3.0190e-01,  1.6106e+00,  ...,  0.0000e+00,\n",
              "          0.0000e+00,  0.0000e+00],\n",
              "        [ 9.1954e-01, -7.5859e-02, -9.3459e-01,  ...,  0.0000e+00,\n",
              "          0.0000e+00,  0.0000e+00]])"
            ]
          },
          "metadata": {},
          "execution_count": 18
        }
      ]
    },
    {
      "cell_type": "code",
      "source": [
        "# Convert sparse matrix to dense matrix if needed\n",
        "if hasattr(X, \"toarray\"):\n",
        "    X = X.toarray()"
      ],
      "metadata": {
        "id": "r_ybh0cZL1-i"
      },
      "execution_count": 19,
      "outputs": []
    },
    {
      "cell_type": "code",
      "source": [
        "X"
      ],
      "metadata": {
        "colab": {
          "base_uri": "https://localhost:8080/"
        },
        "id": "nlsKS08-L5aJ",
        "outputId": "f8d5679e-fa50-4d8c-8365-e63c88903cf0"
      },
      "execution_count": 20,
      "outputs": [
        {
          "output_type": "execute_result",
          "data": {
            "text/plain": [
              "array([[-0.86119873, -0.30332949, -0.6430239 , ...,  1.        ,\n",
              "         0.        ,  0.        ],\n",
              "       [-0.86119873, -0.30264385, -0.93459097, ...,  0.        ,\n",
              "         0.        ,  0.        ],\n",
              "       [-0.82695367, -0.30265729, -0.6430239 , ...,  1.        ,\n",
              "         0.        ,  0.        ],\n",
              "       ...,\n",
              "       [ 1.15925981, -0.00712896, -0.93459097, ...,  0.        ,\n",
              "         0.        ,  0.        ],\n",
              "       [ 1.19350487, -0.23180931, -0.6430239 , ...,  1.        ,\n",
              "         0.        ,  0.        ],\n",
              "       [ 1.19350487,  0.00760418, -0.93459097, ...,  0.        ,\n",
              "         0.        ,  0.        ]])"
            ]
          },
          "metadata": {},
          "execution_count": 20
        }
      ]
    },
    {
      "cell_type": "code",
      "source": [
        "# Define the dataset class\n",
        "class EmissionsDataset(Dataset):\n",
        "    def __init__(self, X, y):\n",
        "        self.X = X\n",
        "        self.y = y\n",
        "\n",
        "    def __len__(self):\n",
        "        return len(self.y)\n",
        "\n",
        "    def __getitem__(self, idx):\n",
        "        return self.X[idx], self.y[idx]"
      ],
      "metadata": {
        "id": "hECNEJFxL6EQ"
      },
      "execution_count": 47,
      "outputs": []
    },
    {
      "cell_type": "code",
      "source": [
        "# Create DataLoader\n",
        "train_dataset = EmissionsDataset(X_train, y_train)\n",
        "test_dataset = EmissionsDataset(X_test, y_test)\n",
        "train_loader = DataLoader(train_dataset, batch_size=32, shuffle=True)\n",
        "test_loader = DataLoader(test_dataset, batch_size=32, shuffle=False)"
      ],
      "metadata": {
        "id": "gDB1ti_DL-92"
      },
      "execution_count": 48,
      "outputs": []
    },
    {
      "cell_type": "code",
      "source": [
        "for idx, batch in enumerate(train_loader):\n",
        "  print(batch[idx])\n",
        "  break"
      ],
      "metadata": {
        "colab": {
          "base_uri": "https://localhost:8080/"
        },
        "id": "aqrVhBQVMCD9",
        "outputId": "6e8ac302-9f17-4672-98e6-33798dd65511"
      },
      "execution_count": 49,
      "outputs": [
        {
          "output_type": "stream",
          "name": "stdout",
          "text": [
            "tensor([[ 1.0565, -0.2588, -0.6430,  ...,  1.0000,  0.0000,  0.0000],\n",
            "        [-1.4434, -0.2976,  1.1201,  ...,  0.0000,  0.0000,  1.0000],\n",
            "        [-0.0736, -0.2210,  1.4285,  ...,  0.0000,  0.0000,  0.0000],\n",
            "        ...,\n",
            "        [ 0.9880, -0.2953,  1.1201,  ...,  0.0000,  0.0000,  1.0000],\n",
            "        [ 0.4744, -0.2000, -0.6430,  ...,  1.0000,  0.0000,  0.0000],\n",
            "        [ 0.8853,  1.4721, -0.5525,  ...,  0.0000,  0.0000,  0.0000]])\n"
          ]
        }
      ]
    },
    {
      "cell_type": "code",
      "source": [
        "# Define the neural network\n",
        "class EmissionsModel(nn.Module):\n",
        "    def __init__(self, input_dim):\n",
        "        super(EmissionsModel, self).__init__()\n",
        "        self.fc1 = nn.Linear(input_dim, 128)\n",
        "        self.bn1 = nn.BatchNorm1d(128)\n",
        "        self.fc2 = nn.Linear(128, 64)\n",
        "        self.bn2 = nn.BatchNorm1d(64)\n",
        "        self.fc3 = nn.Linear(64, 1)\n",
        "\n",
        "    def forward(self, x):\n",
        "        x = torch.relu(self.bn1(self.fc1(x)))\n",
        "        x = torch.relu(self.bn2(self.fc2(x)))\n",
        "        x = self.fc3(x)\n",
        "        return x"
      ],
      "metadata": {
        "id": "S-fkNrGVMDgk"
      },
      "execution_count": 50,
      "outputs": []
    },
    {
      "cell_type": "code",
      "source": [
        "input_dim = X_train.shape[1]\n",
        "model = EmissionsModel(input_dim)"
      ],
      "metadata": {
        "id": "e79InTg4MHMA"
      },
      "execution_count": 51,
      "outputs": []
    },
    {
      "cell_type": "code",
      "source": [
        "input_dim"
      ],
      "metadata": {
        "colab": {
          "base_uri": "https://localhost:8080/"
        },
        "id": "hIx8Q3TeMJx7",
        "outputId": "5f4a5c43-77e5-4911-823f-1b06d93251db"
      },
      "execution_count": 52,
      "outputs": [
        {
          "output_type": "execute_result",
          "data": {
            "text/plain": [
              "137"
            ]
          },
          "metadata": {},
          "execution_count": 52
        }
      ]
    },
    {
      "cell_type": "code",
      "source": [
        "model"
      ],
      "metadata": {
        "colab": {
          "base_uri": "https://localhost:8080/"
        },
        "id": "4Ift0dAwMK4c",
        "outputId": "dedaed06-6763-44c3-c313-372aa34ec501"
      },
      "execution_count": 53,
      "outputs": [
        {
          "output_type": "execute_result",
          "data": {
            "text/plain": [
              "EmissionsModel(\n",
              "  (fc1): Linear(in_features=137, out_features=128, bias=True)\n",
              "  (bn1): BatchNorm1d(128, eps=1e-05, momentum=0.1, affine=True, track_running_stats=True)\n",
              "  (fc2): Linear(in_features=128, out_features=64, bias=True)\n",
              "  (bn2): BatchNorm1d(64, eps=1e-05, momentum=0.1, affine=True, track_running_stats=True)\n",
              "  (fc3): Linear(in_features=64, out_features=1, bias=True)\n",
              ")"
            ]
          },
          "metadata": {},
          "execution_count": 53
        }
      ]
    },
    {
      "cell_type": "code",
      "source": [
        "# Loss and optimizer\n",
        "criterion = nn.MSELoss()\n",
        "optimizer = optim.Adam(model.parameters(), lr=0.001)"
      ],
      "metadata": {
        "id": "0kmn-N8mMLkU"
      },
      "execution_count": 54,
      "outputs": []
    },
    {
      "cell_type": "code",
      "source": [
        "train_losses = []\n",
        "val_losses = []"
      ],
      "metadata": {
        "id": "Mlguhn5DmfuS"
      },
      "execution_count": 55,
      "outputs": []
    },
    {
      "cell_type": "code",
      "source": [
        "num_epochs = 40\n",
        "\n",
        "for epoch in range(num_epochs):\n",
        "    model.train()\n",
        "    epoch_train_loss = 0\n",
        "    for inputs, targets in train_loader:\n",
        "        if inputs.size(0) == 1:  # Skip batches with only one sample\n",
        "            continue\n",
        "        optimizer.zero_grad()\n",
        "        outputs = model(inputs)\n",
        "        loss = criterion(outputs, targets)\n",
        "        loss.backward()\n",
        "        torch.nn.utils.clip_grad_norm_(model.parameters(), max_grad_norm)  # Gradient clipping\n",
        "        optimizer.step()\n",
        "        epoch_train_loss += loss.item()\n",
        "\n",
        "    epoch_train_loss /= len(train_loader)\n",
        "    train_losses.append(epoch_train_loss)\n",
        "\n",
        "    model.eval()\n",
        "    epoch_val_loss = 0\n",
        "    with torch.no_grad():\n",
        "        for inputs, targets in test_loader:\n",
        "            outputs = model(inputs)\n",
        "            loss = criterion(outputs, targets)\n",
        "            epoch_val_loss += loss.item()\n",
        "\n",
        "    epoch_val_loss /= len(test_loader)\n",
        "    val_losses.append(epoch_val_loss)\n",
        "\n",
        "    print(f'Epoch {epoch+1}/{num_epochs}, Train Loss: {epoch_train_loss:.4f}, Val Loss: {epoch_val_loss:.4f}')\n"
      ],
      "metadata": {
        "colab": {
          "base_uri": "https://localhost:8080/"
        },
        "id": "wT6K_7nbMOxI",
        "outputId": "95692229-6b70-4c10-e846-6c13a6af3341"
      },
      "execution_count": 56,
      "outputs": [
        {
          "output_type": "stream",
          "name": "stdout",
          "text": [
            "Epoch 1/40, Train Loss: 120724.1144, Val Loss: 90886.8668\n",
            "Epoch 2/40, Train Loss: 108373.2386, Val Loss: 74265.4560\n",
            "Epoch 3/40, Train Loss: 95292.1971, Val Loss: 62250.9687\n",
            "Epoch 4/40, Train Loss: 83830.9603, Val Loss: 54424.4388\n",
            "Epoch 5/40, Train Loss: 73764.6412, Val Loss: 43358.9602\n",
            "Epoch 6/40, Train Loss: 66947.1396, Val Loss: 32873.3377\n",
            "Epoch 7/40, Train Loss: 64089.1752, Val Loss: 27882.4706\n",
            "Epoch 8/40, Train Loss: 59039.3700, Val Loss: 26260.7299\n",
            "Epoch 9/40, Train Loss: 55189.4620, Val Loss: 25491.0167\n",
            "Epoch 10/40, Train Loss: 53082.6481, Val Loss: 27439.7082\n",
            "Epoch 11/40, Train Loss: 52575.2992, Val Loss: 25524.6981\n",
            "Epoch 12/40, Train Loss: 50554.0241, Val Loss: 22305.5109\n",
            "Epoch 13/40, Train Loss: 47455.5234, Val Loss: 22802.8541\n",
            "Epoch 14/40, Train Loss: 46506.6966, Val Loss: 19728.7776\n",
            "Epoch 15/40, Train Loss: 45599.5679, Val Loss: 20231.6573\n",
            "Epoch 16/40, Train Loss: 43003.5987, Val Loss: 11500.2052\n",
            "Epoch 17/40, Train Loss: 42899.6637, Val Loss: 21699.1594\n",
            "Epoch 18/40, Train Loss: 41075.9341, Val Loss: 12841.6783\n",
            "Epoch 19/40, Train Loss: 42097.4596, Val Loss: 14968.3930\n",
            "Epoch 20/40, Train Loss: 39086.2280, Val Loss: 12194.6518\n",
            "Epoch 21/40, Train Loss: 38699.7508, Val Loss: 8475.8702\n",
            "Epoch 22/40, Train Loss: 37788.0623, Val Loss: 10511.5984\n",
            "Epoch 23/40, Train Loss: 36742.2115, Val Loss: 13977.1419\n",
            "Epoch 24/40, Train Loss: 37867.9632, Val Loss: 6055.8283\n",
            "Epoch 25/40, Train Loss: 35060.2022, Val Loss: 9885.6882\n",
            "Epoch 26/40, Train Loss: 35864.0902, Val Loss: 9050.1180\n",
            "Epoch 27/40, Train Loss: 33895.3002, Val Loss: 10228.1919\n",
            "Epoch 28/40, Train Loss: 33130.7999, Val Loss: 9105.0288\n",
            "Epoch 29/40, Train Loss: 32272.2106, Val Loss: 3824.6097\n",
            "Epoch 30/40, Train Loss: 32699.6259, Val Loss: 17226.3460\n",
            "Epoch 31/40, Train Loss: 31006.1253, Val Loss: 9359.2926\n",
            "Epoch 32/40, Train Loss: 29984.5906, Val Loss: 6440.9600\n",
            "Epoch 33/40, Train Loss: 30050.1611, Val Loss: 10247.6594\n",
            "Epoch 34/40, Train Loss: 28908.0952, Val Loss: 6760.1342\n",
            "Epoch 35/40, Train Loss: 28299.1651, Val Loss: 5660.8257\n",
            "Epoch 36/40, Train Loss: 27771.1057, Val Loss: 5026.3205\n",
            "Epoch 37/40, Train Loss: 28450.0700, Val Loss: 15943.7453\n",
            "Epoch 38/40, Train Loss: 26901.1056, Val Loss: 10338.5032\n",
            "Epoch 39/40, Train Loss: 27057.6755, Val Loss: 8632.1771\n",
            "Epoch 40/40, Train Loss: 26878.4831, Val Loss: 4294.0742\n"
          ]
        }
      ]
    },
    {
      "cell_type": "code",
      "source": [
        "# Plotting the training and validation loss\n",
        "plt.figure(figsize=(10, 6))\n",
        "plt.plot(train_losses, label='Training Loss')\n",
        "plt.plot(val_losses, label='Validation Loss')\n",
        "plt.xlabel('Epoch')\n",
        "plt.ylabel('Loss')\n",
        "plt.title('Training and Validation Loss')\n",
        "plt.legend()\n",
        "plt.grid(True)\n",
        "plt.show()"
      ],
      "metadata": {
        "colab": {
          "base_uri": "https://localhost:8080/",
          "height": 564
        },
        "id": "MXIqvphMm7V4",
        "outputId": "9364c8a2-9727-4760-fd7d-47fcf3984fdc"
      },
      "execution_count": 57,
      "outputs": [
        {
          "output_type": "display_data",
          "data": {
            "text/plain": [
              "<Figure size 1000x600 with 1 Axes>"
            ],
            "image/png": "[encoded data removed]"
          },
          "metadata": {}
        }
      ]
    },
    {
      "cell_type": "code",
      "source": [
        "# Forecast future emissions (example for the next 10 years)\n",
        "future_years = np.arange(2023, 2033)\n",
        "future_data = pd.DataFrame({\n",
        "    'year': future_years,\n",
        "    'parent_entity': ['Former Soviet Union'] * len(future_years),\n",
        "    'parent_type': ['Nation State'] * len(future_years),\n",
        "    'commodity': ['Lignite Coal'] * len(future_years),\n",
        "    'production_value': [0.03] * len(future_years),  # Example production values\n",
        "    'emission_intensity': [0.4] * len(future_years)  # Example emission intensities\n",
        "})"
      ],
      "metadata": {
        "id": "yofs-ZvkMiDb"
      },
      "execution_count": 63,
      "outputs": []
    },
    {
      "cell_type": "code",
      "source": [
        "future_data = preprocessor.transform(future_data)\n",
        "future_data = torch.tensor(future_data, dtype=torch.float32)\n",
        "\n",
        "# Make predictions\n",
        "model.eval()\n",
        "with torch.no_grad():\n",
        "    future_predictions = model(future_data)\n",
        "\n",
        "print(future_predictions)"
      ],
      "metadata": {
        "colab": {
          "base_uri": "https://localhost:8080/"
        },
        "id": "3_-Roy6HMo4n",
        "outputId": "5ad43e1a-5350-4b81-f04a-3ca81a38fbb9"
      },
      "execution_count": 64,
      "outputs": [
        {
          "output_type": "stream",
          "name": "stdout",
          "text": [
            "tensor([[3.6072],\n",
            "        [3.8058],\n",
            "        [3.9719],\n",
            "        [4.1161],\n",
            "        [4.2603],\n",
            "        [4.4044],\n",
            "        [4.6156],\n",
            "        [4.9686],\n",
            "        [5.4356],\n",
            "        [5.9112]])\n"
          ]
        }
      ]
    },
    {
      "cell_type": "code",
      "source": [
        "# Plotting the forecasted emissions\n",
        "plt.figure(figsize=(10, 6))\n",
        "plt.plot(future_years, future_predictions, label='Forecasted Emissions', marker='o')\n",
        "plt.xlabel('Year')\n",
        "plt.ylabel('Total Emissions (MtCO2e)')\n",
        "plt.title('Forecasted CO2 Emissions Over the Next 10 Years')\n",
        "plt.legend()\n",
        "plt.grid(True)\n",
        "plt.show()"
      ],
      "metadata": {
        "colab": {
          "base_uri": "https://localhost:8080/",
          "height": 564
        },
        "id": "AuMvcax0MrY5",
        "outputId": "68de3567-3b1c-4409-bc50-bea3ac16ce03"
      },
      "execution_count": 65,
      "outputs": [
        {
          "output_type": "display_data",
          "data": {
            "text/plain": [
              "<Figure size 1000x600 with 1 Axes>"
            ],
            "image/png": "[encoded data removed]"
          },
          "metadata": {}
        }
      ]
    },
    {
      "cell_type": "code",
      "source": [],
      "metadata": {
        "id": "omCwDI0CM9RN"
      },
      "execution_count": null,
      "outputs": []
    }
  ]
}